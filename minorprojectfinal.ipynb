{
  "metadata": {
    "kernelspec": {
      "language": "python",
      "display_name": "Python 3",
      "name": "python3"
    },
    "language_info": {
      "name": "python",
      "version": "3.10.13",
      "mimetype": "text/x-python",
      "codemirror_mode": {
        "name": "ipython",
        "version": 3
      },
      "pygments_lexer": "ipython3",
      "nbconvert_exporter": "python",
      "file_extension": ".py"
    },
    "kaggle": {
      "accelerator": "nvidiaTeslaT4",
      "dataSources": [
        {
          "sourceId": 8571674,
          "sourceType": "datasetVersion",
          "datasetId": 5125380
        }
      ],
      "dockerImageVersionId": 30732,
      "isInternetEnabled": false,
      "language": "python",
      "sourceType": "notebook",
      "isGpuEnabled": true
    },
    "colab": {
      "provenance": []
    }
  },
  "nbformat_minor": 0,
  "nbformat": 4,
  "cells": [
    {
      "cell_type": "code",
      "source": [
        "import os\n",
        "import pandas as pd\n",
        "import matplotlib.pyplot as plt\n",
        "import seaborn as sns\n",
        "import cv2\n",
        "import numpy as np\n",
        "from sklearn.model_selection import train_test_split\n",
        "from sklearn.preprocessing import LabelEncoder\n",
        "from sklearn.metrics import classification_report, confusion_matrix\n",
        "import tensorflow as tf\n",
        "from tensorflow.keras.models import Sequential\n",
        "from tensorflow.keras.layers import Dense, Dropout, GlobalAveragePooling2D\n",
        "from tensorflow.keras.preprocessing.image import ImageDataGenerator\n",
        "from tensorflow.keras.applications import EfficientNetB0\n",
        "from tensorflow.keras.applications.efficientnet import preprocess_input\n",
        "from tensorflow.keras.callbacks import ReduceLROnPlateau\n",
        "import itertools"
      ],
      "metadata": {
        "_uuid": "8f2839f25d086af736a60e9eeb907d3b93b6e0e5",
        "_cell_guid": "b1076dfc-b9ad-4769-8c92-a6c4dae69d19",
        "execution": {
          "iopub.status.busy": "2024-07-11T15:56:25.28206Z",
          "iopub.execute_input": "2024-07-11T15:56:25.282458Z",
          "iopub.status.idle": "2024-07-11T15:56:30.071128Z",
          "shell.execute_reply.started": "2024-07-11T15:56:25.282426Z",
          "shell.execute_reply": "2024-07-11T15:56:30.070149Z"
        },
        "trusted": true,
        "id": "syRn4tfuDT-p"
      },
      "execution_count": null,
      "outputs": []
    },
    {
      "cell_type": "code",
      "source": [
        "# Define the dataset path\n",
        "dataset_path = '/content/drive/MyDrive/Training'"
      ],
      "metadata": {
        "execution": {
          "iopub.status.busy": "2024-07-11T15:56:30.072998Z",
          "iopub.execute_input": "2024-07-11T15:56:30.073573Z",
          "iopub.status.idle": "2024-07-11T15:56:30.077856Z",
          "shell.execute_reply.started": "2024-07-11T15:56:30.073545Z",
          "shell.execute_reply": "2024-07-11T15:56:30.076897Z"
        },
        "trusted": true,
        "id": "mC6RtV7DDT-w"
      },
      "execution_count": null,
      "outputs": []
    },
    {
      "cell_type": "code",
      "source": [
        "# Get the list of categories\n",
        "categories = ['0Normal', '1Doubtful', '2Mild', '3Moderate', '4Severe']\n",
        "data = []"
      ],
      "metadata": {
        "execution": {
          "iopub.status.busy": "2024-07-11T15:56:30.079299Z",
          "iopub.execute_input": "2024-07-11T15:56:30.080334Z",
          "iopub.status.idle": "2024-07-11T15:56:30.101842Z",
          "shell.execute_reply.started": "2024-07-11T15:56:30.080298Z",
          "shell.execute_reply": "2024-07-11T15:56:30.100748Z"
        },
        "trusted": true,
        "id": "p83npnnZDT-x"
      },
      "execution_count": null,
      "outputs": []
    },
    {
      "cell_type": "code",
      "source": [
        "import os\n",
        "\n",
        "# Path to the dataset in Google Drive\n",
        "dataset_path = '/content/drive/MyDrive/Training'\n",
        "\n",
        "# Verify the folder's contents\n",
        "print(os.listdir(dataset_path))"
      ],
      "metadata": {
        "colab": {
          "base_uri": "https://localhost:8080/"
        },
        "id": "t1swjuwpEq1x",
        "outputId": "e36708b0-9bdf-4800-a1a3-795cfc31236a"
      },
      "execution_count": null,
      "outputs": [
        {
          "output_type": "stream",
          "name": "stdout",
          "text": [
            "['2Mild', '3Moderate', '1Doubtful', '0Normal', '4Severe']\n"
          ]
        }
      ]
    },
    {
      "cell_type": "code",
      "source": [
        "# Collect data information\n",
        "for category in categories:\n",
        "    category_path = os.path.join(dataset_path, category)\n",
        "    for filename in os.listdir(category_path):\n",
        "        data.append((category, filename))"
      ],
      "metadata": {
        "execution": {
          "iopub.status.busy": "2024-07-11T15:56:30.103014Z",
          "iopub.execute_input": "2024-07-11T15:56:30.103296Z",
          "iopub.status.idle": "2024-07-11T15:56:30.144162Z",
          "shell.execute_reply.started": "2024-07-11T15:56:30.103272Z",
          "shell.execute_reply": "2024-07-11T15:56:30.143135Z"
        },
        "trusted": true,
        "id": "gwM0GIsIDT-x"
      },
      "execution_count": null,
      "outputs": []
    },
    {
      "cell_type": "code",
      "source": [
        "# Create a DataFrame\n",
        "df = pd.DataFrame(data, columns=['Category', 'Filename'])\n",
        "print(df.head())\n",
        "print(df['Category'].value_counts())"
      ],
      "metadata": {
        "execution": {
          "iopub.status.busy": "2024-07-11T15:56:30.147233Z",
          "iopub.execute_input": "2024-07-11T15:56:30.147535Z",
          "iopub.status.idle": "2024-07-11T15:56:30.159976Z",
          "shell.execute_reply.started": "2024-07-11T15:56:30.147512Z",
          "shell.execute_reply": "2024-07-11T15:56:30.158706Z"
        },
        "trusted": true,
        "colab": {
          "base_uri": "https://localhost:8080/"
        },
        "id": "TJzmmDSjDT-y",
        "outputId": "32161643-8e76-461b-b638-aba234219268"
      },
      "execution_count": null,
      "outputs": [
        {
          "output_type": "stream",
          "name": "stdout",
          "text": [
            "  Category            Filename\n",
            "0  0Normal  NormalG0 (133).png\n",
            "1  0Normal  NormalG0 (175).png\n",
            "2  0Normal  NormalG0 (300).png\n",
            "3  0Normal   NormalG0 (19).png\n",
            "4  0Normal  NormalG0 (212).png\n",
            "Category\n",
            "0Normal      514\n",
            "1Doubtful    477\n",
            "2Mild        232\n",
            "3Moderate    221\n",
            "4Severe      206\n",
            "Name: count, dtype: int64\n"
          ]
        }
      ]
    },
    {
      "cell_type": "code",
      "source": [
        "from google.colab import drive\n",
        "drive.mount('/content/drive')"
      ],
      "metadata": {
        "colab": {
          "base_uri": "https://localhost:8080/"
        },
        "id": "OEc9xym_EVqD",
        "outputId": "1262297d-e5e9-4848-993e-5d78a3498cc8"
      },
      "execution_count": null,
      "outputs": [
        {
          "output_type": "stream",
          "name": "stdout",
          "text": [
            "Drive already mounted at /content/drive; to attempt to forcibly remount, call drive.mount(\"/content/drive\", force_remount=True).\n"
          ]
        }
      ]
    },
    {
      "cell_type": "code",
      "source": [
        "# Encode the labels\n",
        "label_encoder = LabelEncoder()\n",
        "df['Encoded_Category'] = label_encoder.fit_transform(df['Category'])"
      ],
      "metadata": {
        "execution": {
          "iopub.status.busy": "2024-07-11T15:56:30.161148Z",
          "iopub.execute_input": "2024-07-11T15:56:30.161427Z",
          "iopub.status.idle": "2024-07-11T15:56:30.167438Z",
          "shell.execute_reply.started": "2024-07-11T15:56:30.161405Z",
          "shell.execute_reply": "2024-07-11T15:56:30.166608Z"
        },
        "trusted": true,
        "id": "CVMvgZluDT-z"
      },
      "execution_count": null,
      "outputs": []
    },
    {
      "cell_type": "code",
      "source": [
        "# Split the data into train and test sets\n",
        "train_df, test_df = train_test_split(df, test_size=0.2, random_state=42, stratify=df['Encoded_Category'])\n",
        "\n",
        "print(train_df.shape, test_df.shape)"
      ],
      "metadata": {
        "execution": {
          "iopub.status.busy": "2024-07-11T15:56:30.16873Z",
          "iopub.execute_input": "2024-07-11T15:56:30.169062Z",
          "iopub.status.idle": "2024-07-11T15:56:30.185627Z",
          "shell.execute_reply.started": "2024-07-11T15:56:30.169034Z",
          "shell.execute_reply": "2024-07-11T15:56:30.184566Z"
        },
        "trusted": true,
        "colab": {
          "base_uri": "https://localhost:8080/"
        },
        "id": "fEA9pki2DT-0",
        "outputId": "e9e20a28-3747-430a-e884-e760d2af38de"
      },
      "execution_count": null,
      "outputs": [
        {
          "output_type": "stream",
          "name": "stdout",
          "text": [
            "(1320, 3) (330, 3)\n"
          ]
        }
      ]
    },
    {
      "cell_type": "code",
      "source": [
        "# Plot the distribution of categories\n",
        "plt.figure(figsize=(10, 6))\n",
        "sns.countplot(data=df, x='Category')\n",
        "plt.title('Distribution of Knee Arthritis Categories')\n",
        "plt.show()"
      ],
      "metadata": {
        "execution": {
          "iopub.status.busy": "2024-07-11T15:56:30.186888Z",
          "iopub.execute_input": "2024-07-11T15:56:30.187296Z",
          "iopub.status.idle": "2024-07-11T15:56:30.494276Z",
          "shell.execute_reply.started": "2024-07-11T15:56:30.187265Z",
          "shell.execute_reply": "2024-07-11T15:56:30.493314Z"
        },
        "trusted": true,
        "colab": {
          "base_uri": "https://localhost:8080/",
          "height": 564
        },
        "id": "evtE0nxNDT-1",
        "outputId": "98b82e5e-71f2-4c4d-d19f-a36cf98b6f5f"
      },
      "execution_count": null,
      "outputs": [
        {
          "output_type": "display_data",
          "data": {
            "text/plain": [
              "<Figure size 1000x600 with 1 Axes>"
            ],
            "image/png": "[encoded data removed]"
          },
          "metadata": {}
        }
      ]
    },
    {
      "cell_type": "code",
      "source": [
        "# Function to load and preprocess image\n",
        "def load_and_preprocess_image(filepath):\n",
        "    image = cv2.imread(filepath, cv2.IMREAD_GRAYSCALE)\n",
        "    image = cv2.cvtColor(image, cv2.COLOR_GRAY2RGB)  # Convert to RGB\n",
        "    image = cv2.resize(image, (224, 224))  # Resize to a fixed size\n",
        "    image = preprocess_input(image)  # Preprocess input for EfficientNetB0\n",
        "    return image"
      ],
      "metadata": {
        "execution": {
          "iopub.status.busy": "2024-07-11T15:56:30.495546Z",
          "iopub.execute_input": "2024-07-11T15:56:30.495949Z",
          "iopub.status.idle": "2024-07-11T15:56:30.502385Z",
          "shell.execute_reply.started": "2024-07-11T15:56:30.495899Z",
          "shell.execute_reply": "2024-07-11T15:56:30.501114Z"
        },
        "trusted": true,
        "id": "FE9ZInEXDT-3"
      },
      "execution_count": null,
      "outputs": []
    },
    {
      "cell_type": "code",
      "source": [
        "# Data augmentation\n",
        "datagen = ImageDataGenerator(\n",
        "    rotation_range=30,\n",
        "    width_shift_range=0.3,\n",
        "    height_shift_range=0.3,\n",
        "    shear_range=0.3,\n",
        "    zoom_range=0.3,\n",
        "    horizontal_flip=True,\n",
        "    fill_mode='nearest'\n",
        ")"
      ],
      "metadata": {
        "execution": {
          "iopub.status.busy": "2024-07-11T15:56:30.503574Z",
          "iopub.execute_input": "2024-07-11T15:56:30.503907Z",
          "iopub.status.idle": "2024-07-11T15:56:30.519135Z",
          "shell.execute_reply.started": "2024-07-11T15:56:30.50388Z",
          "shell.execute_reply": "2024-07-11T15:56:30.517853Z"
        },
        "trusted": true,
        "id": "n5y3MG2QDT-3"
      },
      "execution_count": null,
      "outputs": []
    },
    {
      "cell_type": "code",
      "source": [
        "# Prepare the data for training\n",
        "def prepare_data(df, dataset_path):\n",
        "    images = []\n",
        "    labels = []\n",
        "    for _, row in df.iterrows():\n",
        "        filepath = os.path.join(dataset_path, row['Category'], row['Filename'])\n",
        "        image = load_and_preprocess_image(filepath)\n",
        "        images.append(image)\n",
        "        labels.append(row['Encoded_Category'])\n",
        "    return np.array(images), np.array(labels)\n",
        "\n",
        "train_images, train_labels = prepare_data(train_df, dataset_path)\n",
        "test_images, test_labels = prepare_data(test_df, dataset_path)"
      ],
      "metadata": {
        "execution": {
          "iopub.status.busy": "2024-07-11T15:56:30.520492Z",
          "iopub.execute_input": "2024-07-11T15:56:30.520862Z",
          "iopub.status.idle": "2024-07-11T15:56:39.499892Z",
          "shell.execute_reply.started": "2024-07-11T15:56:30.52081Z",
          "shell.execute_reply": "2024-07-11T15:56:39.499008Z"
        },
        "trusted": true,
        "id": "VKPutaOzDT-4"
      },
      "execution_count": null,
      "outputs": []
    },
    {
      "cell_type": "code",
      "source": [
        "# Augment the training data\n",
        "train_augmented_flow = datagen.flow(train_images, train_labels, batch_size=len(train_images), shuffle=False)\n",
        "train_images_augmented, train_labels_augmented = next(train_augmented_flow)"
      ],
      "metadata": {
        "execution": {
          "iopub.status.busy": "2024-07-11T15:56:39.501108Z",
          "iopub.execute_input": "2024-07-11T15:56:39.501414Z",
          "iopub.status.idle": "2024-07-11T15:56:54.267524Z",
          "shell.execute_reply.started": "2024-07-11T15:56:39.501388Z",
          "shell.execute_reply": "2024-07-11T15:56:54.266607Z"
        },
        "trusted": true,
        "id": "OsUiHcu1DT-4"
      },
      "execution_count": null,
      "outputs": []
    },
    {
      "cell_type": "code",
      "source": [
        "# Concatenate the original and augmented data\n",
        "train_images_augmented = np.concatenate([train_images, train_images_augmented])\n",
        "train_labels_augmented = np.concatenate([train_labels, train_labels_augmented])"
      ],
      "metadata": {
        "execution": {
          "iopub.status.busy": "2024-07-11T15:56:54.269291Z",
          "iopub.execute_input": "2024-07-11T15:56:54.269704Z",
          "iopub.status.idle": "2024-07-11T15:56:54.815207Z",
          "shell.execute_reply.started": "2024-07-11T15:56:54.269663Z",
          "shell.execute_reply": "2024-07-11T15:56:54.814262Z"
        },
        "trusted": true,
        "id": "2Qy9ILWIDT-6"
      },
      "execution_count": null,
      "outputs": []
    },
    {
      "cell_type": "code",
      "source": [
        "base_model = tf.keras.applications.MobileNetV2(weights='imagenet', include_top=False, input_shape=(224, 224, 3))"
      ],
      "metadata": {
        "id": "AFuhw3WAIPd2"
      },
      "execution_count": null,
      "outputs": []
    },
    {
      "cell_type": "code",
      "source": [
        "# Unfreeze some layers of the base model\n",
        "for layer in base_model.layers[-20:]:\n",
        "    layer.trainable = True"
      ],
      "metadata": {
        "execution": {
          "iopub.status.busy": "2024-07-11T15:56:57.222247Z",
          "iopub.execute_input": "2024-07-11T15:56:57.2229Z",
          "iopub.status.idle": "2024-07-11T15:56:57.228218Z",
          "shell.execute_reply.started": "2024-07-11T15:56:57.222862Z",
          "shell.execute_reply": "2024-07-11T15:56:57.227213Z"
        },
        "trusted": true,
        "id": "E63n-ur8DT-6"
      },
      "execution_count": null,
      "outputs": []
    },
    {
      "cell_type": "code",
      "source": [
        "# Add new top layers\n",
        "model = Sequential([\n",
        "    base_model,\n",
        "    GlobalAveragePooling2D(),\n",
        "    Dense(512, activation='relu'),\n",
        "    Dropout(0.5),\n",
        "    Dense(5, activation='softmax')\n",
        "])"
      ],
      "metadata": {
        "execution": {
          "iopub.status.busy": "2024-07-11T15:56:57.22952Z",
          "iopub.execute_input": "2024-07-11T15:56:57.22989Z",
          "iopub.status.idle": "2024-07-11T15:56:57.249773Z",
          "shell.execute_reply.started": "2024-07-11T15:56:57.229856Z",
          "shell.execute_reply": "2024-07-11T15:56:57.248884Z"
        },
        "trusted": true,
        "id": "D3Af4PHcDT-7"
      },
      "execution_count": null,
      "outputs": []
    },
    {
      "cell_type": "code",
      "source": [
        "# Compile the model\n",
        "model.compile(optimizer='adam', loss='sparse_categorical_crossentropy', metrics=['accuracy'])"
      ],
      "metadata": {
        "execution": {
          "iopub.status.busy": "2024-07-11T15:56:57.251214Z",
          "iopub.execute_input": "2024-07-11T15:56:57.2516Z",
          "iopub.status.idle": "2024-07-11T15:56:57.267566Z",
          "shell.execute_reply.started": "2024-07-11T15:56:57.251574Z",
          "shell.execute_reply": "2024-07-11T15:56:57.266561Z"
        },
        "trusted": true,
        "id": "Rn7axjmsDT-7"
      },
      "execution_count": null,
      "outputs": []
    },
    {
      "cell_type": "code",
      "source": [
        "# Add learning rate scheduler\n",
        "lr_scheduler = ReduceLROnPlateau(monitor='val_loss', factor=0.5, patience=5, verbose=1)"
      ],
      "metadata": {
        "execution": {
          "iopub.status.busy": "2024-07-11T15:56:57.269102Z",
          "iopub.execute_input": "2024-07-11T15:56:57.269806Z",
          "iopub.status.idle": "2024-07-11T15:56:57.275266Z",
          "shell.execute_reply.started": "2024-07-11T15:56:57.269759Z",
          "shell.execute_reply": "2024-07-11T15:56:57.274255Z"
        },
        "trusted": true,
        "id": "VJ95eekoDT-8"
      },
      "execution_count": null,
      "outputs": []
    },
    {
      "cell_type": "code",
      "source": [
        "# Train the model\n",
        "history = model.fit(train_images_augmented, train_labels_augmented, epochs=30, validation_data=(test_images, test_labels), callbacks=[lr_scheduler])"
      ],
      "metadata": {
        "execution": {
          "iopub.status.busy": "2024-07-11T15:56:57.276551Z",
          "iopub.execute_input": "2024-07-11T15:56:57.276947Z",
          "iopub.status.idle": "2024-07-11T16:06:30.760563Z",
          "shell.execute_reply.started": "2024-07-11T15:56:57.276912Z",
          "shell.execute_reply": "2024-07-11T16:06:30.759177Z"
        },
        "trusted": true,
        "colab": {
          "base_uri": "https://localhost:8080/",
          "height": 963
        },
        "id": "B-gpAJvTDT-8",
        "outputId": "f410ce45-83ae-437a-8b65-269bc6597485"
      },
      "execution_count": null,
      "outputs": [
        {
          "output_type": "stream",
          "name": "stdout",
          "text": [
            "Epoch 1/30\n",
            "\u001b[1m83/83\u001b[0m \u001b[32m━━━━━━━━━━━━━━━━━━━━\u001b[0m\u001b[37m\u001b[0m \u001b[1m601s\u001b[0m 7s/step - accuracy: 0.4529 - loss: 1.3900 - val_accuracy: 0.3121 - val_loss: 11.6076 - learning_rate: 0.0010\n",
            "Epoch 2/30\n",
            "\u001b[1m83/83\u001b[0m \u001b[32m━━━━━━━━━━━━━━━━━━━━\u001b[0m\u001b[37m\u001b[0m \u001b[1m621s\u001b[0m 7s/step - accuracy: 0.6814 - loss: 0.8050 - val_accuracy: 0.3121 - val_loss: 16.2644 - learning_rate: 0.0010\n",
            "Epoch 3/30\n",
            "\u001b[1m83/83\u001b[0m \u001b[32m━━━━━━━━━━━━━━━━━━━━\u001b[0m\u001b[37m\u001b[0m \u001b[1m595s\u001b[0m 6s/step - accuracy: 0.7610 - loss: 0.6404 - val_accuracy: 0.3061 - val_loss: 15.0482 - learning_rate: 0.0010\n",
            "Epoch 4/30\n",
            "\u001b[1m83/83\u001b[0m \u001b[32m━━━━━━━━━━━━━━━━━━━━\u001b[0m\u001b[37m\u001b[0m \u001b[1m569s\u001b[0m 7s/step - accuracy: 0.7451 - loss: 0.6302 - val_accuracy: 0.3121 - val_loss: 25.2493 - learning_rate: 0.0010\n",
            "Epoch 5/30\n",
            "\u001b[1m83/83\u001b[0m \u001b[32m━━━━━━━━━━━━━━━━━━━━\u001b[0m\u001b[37m\u001b[0m \u001b[1m567s\u001b[0m 7s/step - accuracy: 0.7964 - loss: 0.5235 - val_accuracy: 0.3273 - val_loss: 13.9220 - learning_rate: 0.0010\n",
            "Epoch 6/30\n",
            "\u001b[1m83/83\u001b[0m \u001b[32m━━━━━━━━━━━━━━━━━━━━\u001b[0m\u001b[37m\u001b[0m \u001b[1m0s\u001b[0m 6s/step - accuracy: 0.8423 - loss: 0.4138\n",
            "Epoch 6: ReduceLROnPlateau reducing learning rate to 0.0005000000237487257.\n",
            "\u001b[1m83/83\u001b[0m \u001b[32m━━━━━━━━━━━━━━━━━━━━\u001b[0m\u001b[37m\u001b[0m \u001b[1m545s\u001b[0m 6s/step - accuracy: 0.8422 - loss: 0.4142 - val_accuracy: 0.3212 - val_loss: 17.7429 - learning_rate: 0.0010\n",
            "Epoch 7/30\n",
            "\u001b[1m83/83\u001b[0m \u001b[32m━━━━━━━━━━━━━━━━━━━━\u001b[0m\u001b[37m\u001b[0m \u001b[1m575s\u001b[0m 7s/step - accuracy: 0.9168 - loss: 0.2384 - val_accuracy: 0.4091 - val_loss: 11.6159 - learning_rate: 5.0000e-04\n",
            "Epoch 8/30\n",
            "\u001b[1m83/83\u001b[0m \u001b[32m━━━━━━━━━━━━━━━━━━━━\u001b[0m\u001b[37m\u001b[0m \u001b[1m574s\u001b[0m 7s/step - accuracy: 0.9412 - loss: 0.1875 - val_accuracy: 0.3242 - val_loss: 18.5107 - learning_rate: 5.0000e-04\n",
            "Epoch 9/30\n",
            "\u001b[1m83/83\u001b[0m \u001b[32m━━━━━━━━━━━━━━━━━━━━\u001b[0m\u001b[37m\u001b[0m \u001b[1m553s\u001b[0m 7s/step - accuracy: 0.9649 - loss: 0.1108 - val_accuracy: 0.3848 - val_loss: 16.9431 - learning_rate: 5.0000e-04\n",
            "Epoch 10/30\n",
            "\u001b[1m83/83\u001b[0m \u001b[32m━━━━━━━━━━━━━━━━━━━━\u001b[0m\u001b[37m\u001b[0m \u001b[1m555s\u001b[0m 7s/step - accuracy: 0.9600 - loss: 0.1301 - val_accuracy: 0.5788 - val_loss: 4.7539 - learning_rate: 5.0000e-04\n",
            "Epoch 11/30\n",
            "\u001b[1m83/83\u001b[0m \u001b[32m━━━━━━━━━━━━━━━━━━━━\u001b[0m\u001b[37m\u001b[0m \u001b[1m546s\u001b[0m 7s/step - accuracy: 0.9584 - loss: 0.1233 - val_accuracy: 0.4939 - val_loss: 6.3264 - learning_rate: 5.0000e-04\n",
            "Epoch 12/30\n",
            "\u001b[1m83/83\u001b[0m \u001b[32m━━━━━━━━━━━━━━━━━━━━\u001b[0m\u001b[37m\u001b[0m \u001b[1m560s\u001b[0m 7s/step - accuracy: 0.9677 - loss: 0.1108 - val_accuracy: 0.4515 - val_loss: 8.4408 - learning_rate: 5.0000e-04\n",
            "Epoch 13/30\n",
            "\u001b[1m83/83\u001b[0m \u001b[32m━━━━━━━━━━━━━━━━━━━━\u001b[0m\u001b[37m\u001b[0m \u001b[1m536s\u001b[0m 6s/step - accuracy: 0.9613 - loss: 0.1298 - val_accuracy: 0.4121 - val_loss: 11.6241 - learning_rate: 5.0000e-04\n",
            "Epoch 14/30\n",
            "\u001b[1m83/83\u001b[0m \u001b[32m━━━━━━━━━━━━━━━━━━━━\u001b[0m\u001b[37m\u001b[0m \u001b[1m568s\u001b[0m 6s/step - accuracy: 0.9735 - loss: 0.0841 - val_accuracy: 0.4848 - val_loss: 8.1547 - learning_rate: 5.0000e-04\n",
            "Epoch 15/30\n",
            "\u001b[1m83/83\u001b[0m \u001b[32m━━━━━━━━━━━━━━━━━━━━\u001b[0m\u001b[37m\u001b[0m \u001b[1m0s\u001b[0m 6s/step - accuracy: 0.9699 - loss: 0.1027\n",
            "Epoch 15: ReduceLROnPlateau reducing learning rate to 0.0002500000118743628.\n",
            "\u001b[1m83/83\u001b[0m \u001b[32m━━━━━━━━━━━━━━━━━━━━\u001b[0m\u001b[37m\u001b[0m \u001b[1m560s\u001b[0m 6s/step - accuracy: 0.9699 - loss: 0.1028 - val_accuracy: 0.3818 - val_loss: 16.1772 - learning_rate: 5.0000e-04\n",
            "Epoch 16/30\n",
            "\u001b[1m83/83\u001b[0m \u001b[32m━━━━━━━━━━━━━━━━━━━━\u001b[0m\u001b[37m\u001b[0m \u001b[1m561s\u001b[0m 6s/step - accuracy: 0.9775 - loss: 0.0771 - val_accuracy: 0.3970 - val_loss: 14.3655 - learning_rate: 2.5000e-04\n",
            "Epoch 17/30\n"
          ]
        },
        {
          "output_type": "error",
          "ename": "KeyboardInterrupt",
          "evalue": "",
          "traceback": [
            "\u001b[0;31m---------------------------------------------------------------------------\u001b[0m",
            "\u001b[0;31mKeyboardInterrupt\u001b[0m                         Traceback (most recent call last)",
            "\u001b[0;32m<ipython-input-26-992301f5e05f>\u001b[0m in \u001b[0;36m<cell line: 2>\u001b[0;34m()\u001b[0m\n\u001b[1;32m      1\u001b[0m \u001b[0;31m# Train the model\u001b[0m\u001b[0;34m\u001b[0m\u001b[0;34m\u001b[0m\u001b[0m\n\u001b[0;32m----> 2\u001b[0;31m \u001b[0mhistory\u001b[0m \u001b[0;34m=\u001b[0m \u001b[0mmodel\u001b[0m\u001b[0;34m.\u001b[0m\u001b[0mfit\u001b[0m\u001b[0;34m(\u001b[0m\u001b[0mtrain_images_augmented\u001b[0m\u001b[0;34m,\u001b[0m \u001b[0mtrain_labels_augmented\u001b[0m\u001b[0;34m,\u001b[0m \u001b[0mepochs\u001b[0m\u001b[0;34m=\u001b[0m\u001b[0;36m30\u001b[0m\u001b[0;34m,\u001b[0m \u001b[0mvalidation_data\u001b[0m\u001b[0;34m=\u001b[0m\u001b[0;34m(\u001b[0m\u001b[0mtest_images\u001b[0m\u001b[0;34m,\u001b[0m \u001b[0mtest_labels\u001b[0m\u001b[0;34m)\u001b[0m\u001b[0;34m,\u001b[0m \u001b[0mcallbacks\u001b[0m\u001b[0;34m=\u001b[0m\u001b[0;34m[\u001b[0m\u001b[0mlr_scheduler\u001b[0m\u001b[0;34m]\u001b[0m\u001b[0;34m)\u001b[0m\u001b[0;34m\u001b[0m\u001b[0;34m\u001b[0m\u001b[0m\n\u001b[0m",
            "\u001b[0;32m/usr/local/lib/python3.10/dist-packages/keras/src/utils/traceback_utils.py\u001b[0m in \u001b[0;36merror_handler\u001b[0;34m(*args, **kwargs)\u001b[0m\n\u001b[1;32m    115\u001b[0m         \u001b[0mfiltered_tb\u001b[0m \u001b[0;34m=\u001b[0m \u001b[0;32mNone\u001b[0m\u001b[0;34m\u001b[0m\u001b[0;34m\u001b[0m\u001b[0m\n\u001b[1;32m    116\u001b[0m         \u001b[0;32mtry\u001b[0m\u001b[0;34m:\u001b[0m\u001b[0;34m\u001b[0m\u001b[0;34m\u001b[0m\u001b[0m\n\u001b[0;32m--> 117\u001b[0;31m             \u001b[0;32mreturn\u001b[0m \u001b[0mfn\u001b[0m\u001b[0;34m(\u001b[0m\u001b[0;34m*\u001b[0m\u001b[0margs\u001b[0m\u001b[0;34m,\u001b[0m \u001b[0;34m**\u001b[0m\u001b[0mkwargs\u001b[0m\u001b[0;34m)\u001b[0m\u001b[0;34m\u001b[0m\u001b[0;34m\u001b[0m\u001b[0m\n\u001b[0m\u001b[1;32m    118\u001b[0m         \u001b[0;32mexcept\u001b[0m \u001b[0mException\u001b[0m \u001b[0;32mas\u001b[0m \u001b[0me\u001b[0m\u001b[0;34m:\u001b[0m\u001b[0;34m\u001b[0m\u001b[0;34m\u001b[0m\u001b[0m\n\u001b[1;32m    119\u001b[0m             \u001b[0mfiltered_tb\u001b[0m \u001b[0;34m=\u001b[0m \u001b[0m_process_traceback_frames\u001b[0m\u001b[0;34m(\u001b[0m\u001b[0me\u001b[0m\u001b[0;34m.\u001b[0m\u001b[0m__traceback__\u001b[0m\u001b[0;34m)\u001b[0m\u001b[0;34m\u001b[0m\u001b[0;34m\u001b[0m\u001b[0m\n",
            "\u001b[0;32m/usr/local/lib/python3.10/dist-packages/keras/src/backend/tensorflow/trainer.py\u001b[0m in \u001b[0;36mfit\u001b[0;34m(self, x, y, batch_size, epochs, verbose, callbacks, validation_split, validation_data, shuffle, class_weight, sample_weight, initial_epoch, steps_per_epoch, validation_steps, validation_batch_size, validation_freq)\u001b[0m\n\u001b[1;32m    316\u001b[0m                 \u001b[0;32mfor\u001b[0m \u001b[0mstep\u001b[0m\u001b[0;34m,\u001b[0m \u001b[0miterator\u001b[0m \u001b[0;32min\u001b[0m \u001b[0mepoch_iterator\u001b[0m\u001b[0;34m.\u001b[0m\u001b[0menumerate_epoch\u001b[0m\u001b[0;34m(\u001b[0m\u001b[0;34m)\u001b[0m\u001b[0;34m:\u001b[0m\u001b[0;34m\u001b[0m\u001b[0;34m\u001b[0m\u001b[0m\n\u001b[1;32m    317\u001b[0m                     \u001b[0mcallbacks\u001b[0m\u001b[0;34m.\u001b[0m\u001b[0mon_train_batch_begin\u001b[0m\u001b[0;34m(\u001b[0m\u001b[0mstep\u001b[0m\u001b[0;34m)\u001b[0m\u001b[0;34m\u001b[0m\u001b[0;34m\u001b[0m\u001b[0m\n\u001b[0;32m--> 318\u001b[0;31m                     \u001b[0mlogs\u001b[0m \u001b[0;34m=\u001b[0m \u001b[0mself\u001b[0m\u001b[0;34m.\u001b[0m\u001b[0mtrain_function\u001b[0m\u001b[0;34m(\u001b[0m\u001b[0miterator\u001b[0m\u001b[0;34m)\u001b[0m\u001b[0;34m\u001b[0m\u001b[0;34m\u001b[0m\u001b[0m\n\u001b[0m\u001b[1;32m    319\u001b[0m                     \u001b[0mlogs\u001b[0m \u001b[0;34m=\u001b[0m \u001b[0mself\u001b[0m\u001b[0;34m.\u001b[0m\u001b[0m_pythonify_logs\u001b[0m\u001b[0;34m(\u001b[0m\u001b[0mlogs\u001b[0m\u001b[0;34m)\u001b[0m\u001b[0;34m\u001b[0m\u001b[0;34m\u001b[0m\u001b[0m\n\u001b[1;32m    320\u001b[0m                     \u001b[0mcallbacks\u001b[0m\u001b[0;34m.\u001b[0m\u001b[0mon_train_batch_end\u001b[0m\u001b[0;34m(\u001b[0m\u001b[0mstep\u001b[0m\u001b[0;34m,\u001b[0m \u001b[0mlogs\u001b[0m\u001b[0;34m)\u001b[0m\u001b[0;34m\u001b[0m\u001b[0;34m\u001b[0m\u001b[0m\n",
            "\u001b[0;32m/usr/local/lib/python3.10/dist-packages/tensorflow/python/util/traceback_utils.py\u001b[0m in \u001b[0;36merror_handler\u001b[0;34m(*args, **kwargs)\u001b[0m\n\u001b[1;32m    148\u001b[0m     \u001b[0mfiltered_tb\u001b[0m \u001b[0;34m=\u001b[0m \u001b[0;32mNone\u001b[0m\u001b[0;34m\u001b[0m\u001b[0;34m\u001b[0m\u001b[0m\n\u001b[1;32m    149\u001b[0m     \u001b[0;32mtry\u001b[0m\u001b[0;34m:\u001b[0m\u001b[0;34m\u001b[0m\u001b[0;34m\u001b[0m\u001b[0m\n\u001b[0;32m--> 150\u001b[0;31m       \u001b[0;32mreturn\u001b[0m \u001b[0mfn\u001b[0m\u001b[0;34m(\u001b[0m\u001b[0;34m*\u001b[0m\u001b[0margs\u001b[0m\u001b[0;34m,\u001b[0m \u001b[0;34m**\u001b[0m\u001b[0mkwargs\u001b[0m\u001b[0;34m)\u001b[0m\u001b[0;34m\u001b[0m\u001b[0;34m\u001b[0m\u001b[0m\n\u001b[0m\u001b[1;32m    151\u001b[0m     \u001b[0;32mexcept\u001b[0m \u001b[0mException\u001b[0m \u001b[0;32mas\u001b[0m \u001b[0me\u001b[0m\u001b[0;34m:\u001b[0m\u001b[0;34m\u001b[0m\u001b[0;34m\u001b[0m\u001b[0m\n\u001b[1;32m    152\u001b[0m       \u001b[0mfiltered_tb\u001b[0m \u001b[0;34m=\u001b[0m \u001b[0m_process_traceback_frames\u001b[0m\u001b[0;34m(\u001b[0m\u001b[0me\u001b[0m\u001b[0;34m.\u001b[0m\u001b[0m__traceback__\u001b[0m\u001b[0;34m)\u001b[0m\u001b[0;34m\u001b[0m\u001b[0;34m\u001b[0m\u001b[0m\n",
            "\u001b[0;32m/usr/local/lib/python3.10/dist-packages/tensorflow/python/eager/polymorphic_function/polymorphic_function.py\u001b[0m in \u001b[0;36m__call__\u001b[0;34m(self, *args, **kwds)\u001b[0m\n\u001b[1;32m    831\u001b[0m \u001b[0;34m\u001b[0m\u001b[0m\n\u001b[1;32m    832\u001b[0m       \u001b[0;32mwith\u001b[0m \u001b[0mOptionalXlaContext\u001b[0m\u001b[0;34m(\u001b[0m\u001b[0mself\u001b[0m\u001b[0;34m.\u001b[0m\u001b[0m_jit_compile\u001b[0m\u001b[0;34m)\u001b[0m\u001b[0;34m:\u001b[0m\u001b[0;34m\u001b[0m\u001b[0;34m\u001b[0m\u001b[0m\n\u001b[0;32m--> 833\u001b[0;31m         \u001b[0mresult\u001b[0m \u001b[0;34m=\u001b[0m \u001b[0mself\u001b[0m\u001b[0;34m.\u001b[0m\u001b[0m_call\u001b[0m\u001b[0;34m(\u001b[0m\u001b[0;34m*\u001b[0m\u001b[0margs\u001b[0m\u001b[0;34m,\u001b[0m \u001b[0;34m**\u001b[0m\u001b[0mkwds\u001b[0m\u001b[0;34m)\u001b[0m\u001b[0;34m\u001b[0m\u001b[0;34m\u001b[0m\u001b[0m\n\u001b[0m\u001b[1;32m    834\u001b[0m \u001b[0;34m\u001b[0m\u001b[0m\n\u001b[1;32m    835\u001b[0m       \u001b[0mnew_tracing_count\u001b[0m \u001b[0;34m=\u001b[0m \u001b[0mself\u001b[0m\u001b[0;34m.\u001b[0m\u001b[0mexperimental_get_tracing_count\u001b[0m\u001b[0;34m(\u001b[0m\u001b[0;34m)\u001b[0m\u001b[0;34m\u001b[0m\u001b[0;34m\u001b[0m\u001b[0m\n",
            "\u001b[0;32m/usr/local/lib/python3.10/dist-packages/tensorflow/python/eager/polymorphic_function/polymorphic_function.py\u001b[0m in \u001b[0;36m_call\u001b[0;34m(self, *args, **kwds)\u001b[0m\n\u001b[1;32m    876\u001b[0m       \u001b[0;31m# In this case we have not created variables on the first call. So we can\u001b[0m\u001b[0;34m\u001b[0m\u001b[0;34m\u001b[0m\u001b[0m\n\u001b[1;32m    877\u001b[0m       \u001b[0;31m# run the first trace but we should fail if variables are created.\u001b[0m\u001b[0;34m\u001b[0m\u001b[0;34m\u001b[0m\u001b[0m\n\u001b[0;32m--> 878\u001b[0;31m       results = tracing_compilation.call_function(\n\u001b[0m\u001b[1;32m    879\u001b[0m           \u001b[0margs\u001b[0m\u001b[0;34m,\u001b[0m \u001b[0mkwds\u001b[0m\u001b[0;34m,\u001b[0m \u001b[0mself\u001b[0m\u001b[0;34m.\u001b[0m\u001b[0m_variable_creation_config\u001b[0m\u001b[0;34m\u001b[0m\u001b[0;34m\u001b[0m\u001b[0m\n\u001b[1;32m    880\u001b[0m       )\n",
            "\u001b[0;32m/usr/local/lib/python3.10/dist-packages/tensorflow/python/eager/polymorphic_function/tracing_compilation.py\u001b[0m in \u001b[0;36mcall_function\u001b[0;34m(args, kwargs, tracing_options)\u001b[0m\n\u001b[1;32m    137\u001b[0m   \u001b[0mbound_args\u001b[0m \u001b[0;34m=\u001b[0m \u001b[0mfunction\u001b[0m\u001b[0;34m.\u001b[0m\u001b[0mfunction_type\u001b[0m\u001b[0;34m.\u001b[0m\u001b[0mbind\u001b[0m\u001b[0;34m(\u001b[0m\u001b[0;34m*\u001b[0m\u001b[0margs\u001b[0m\u001b[0;34m,\u001b[0m \u001b[0;34m**\u001b[0m\u001b[0mkwargs\u001b[0m\u001b[0;34m)\u001b[0m\u001b[0;34m\u001b[0m\u001b[0;34m\u001b[0m\u001b[0m\n\u001b[1;32m    138\u001b[0m   \u001b[0mflat_inputs\u001b[0m \u001b[0;34m=\u001b[0m \u001b[0mfunction\u001b[0m\u001b[0;34m.\u001b[0m\u001b[0mfunction_type\u001b[0m\u001b[0;34m.\u001b[0m\u001b[0munpack_inputs\u001b[0m\u001b[0;34m(\u001b[0m\u001b[0mbound_args\u001b[0m\u001b[0;34m)\u001b[0m\u001b[0;34m\u001b[0m\u001b[0;34m\u001b[0m\u001b[0m\n\u001b[0;32m--> 139\u001b[0;31m   return function._call_flat(  # pylint: disable=protected-access\n\u001b[0m\u001b[1;32m    140\u001b[0m       \u001b[0mflat_inputs\u001b[0m\u001b[0;34m,\u001b[0m \u001b[0mcaptured_inputs\u001b[0m\u001b[0;34m=\u001b[0m\u001b[0mfunction\u001b[0m\u001b[0;34m.\u001b[0m\u001b[0mcaptured_inputs\u001b[0m\u001b[0;34m\u001b[0m\u001b[0;34m\u001b[0m\u001b[0m\n\u001b[1;32m    141\u001b[0m   )\n",
            "\u001b[0;32m/usr/local/lib/python3.10/dist-packages/tensorflow/python/eager/polymorphic_function/concrete_function.py\u001b[0m in \u001b[0;36m_call_flat\u001b[0;34m(self, tensor_inputs, captured_inputs)\u001b[0m\n\u001b[1;32m   1320\u001b[0m         and executing_eagerly):\n\u001b[1;32m   1321\u001b[0m       \u001b[0;31m# No tape is watching; skip to running the function.\u001b[0m\u001b[0;34m\u001b[0m\u001b[0;34m\u001b[0m\u001b[0m\n\u001b[0;32m-> 1322\u001b[0;31m       \u001b[0;32mreturn\u001b[0m \u001b[0mself\u001b[0m\u001b[0;34m.\u001b[0m\u001b[0m_inference_function\u001b[0m\u001b[0;34m.\u001b[0m\u001b[0mcall_preflattened\u001b[0m\u001b[0;34m(\u001b[0m\u001b[0margs\u001b[0m\u001b[0;34m)\u001b[0m\u001b[0;34m\u001b[0m\u001b[0;34m\u001b[0m\u001b[0m\n\u001b[0m\u001b[1;32m   1323\u001b[0m     forward_backward = self._select_forward_and_backward_functions(\n\u001b[1;32m   1324\u001b[0m         \u001b[0margs\u001b[0m\u001b[0;34m,\u001b[0m\u001b[0;34m\u001b[0m\u001b[0;34m\u001b[0m\u001b[0m\n",
            "\u001b[0;32m/usr/local/lib/python3.10/dist-packages/tensorflow/python/eager/polymorphic_function/atomic_function.py\u001b[0m in \u001b[0;36mcall_preflattened\u001b[0;34m(self, args)\u001b[0m\n\u001b[1;32m    214\u001b[0m   \u001b[0;32mdef\u001b[0m \u001b[0mcall_preflattened\u001b[0m\u001b[0;34m(\u001b[0m\u001b[0mself\u001b[0m\u001b[0;34m,\u001b[0m \u001b[0margs\u001b[0m\u001b[0;34m:\u001b[0m \u001b[0mSequence\u001b[0m\u001b[0;34m[\u001b[0m\u001b[0mcore\u001b[0m\u001b[0;34m.\u001b[0m\u001b[0mTensor\u001b[0m\u001b[0;34m]\u001b[0m\u001b[0;34m)\u001b[0m \u001b[0;34m->\u001b[0m \u001b[0mAny\u001b[0m\u001b[0;34m:\u001b[0m\u001b[0;34m\u001b[0m\u001b[0;34m\u001b[0m\u001b[0m\n\u001b[1;32m    215\u001b[0m     \u001b[0;34m\"\"\"Calls with flattened tensor inputs and returns the structured output.\"\"\"\u001b[0m\u001b[0;34m\u001b[0m\u001b[0;34m\u001b[0m\u001b[0m\n\u001b[0;32m--> 216\u001b[0;31m     \u001b[0mflat_outputs\u001b[0m \u001b[0;34m=\u001b[0m \u001b[0mself\u001b[0m\u001b[0;34m.\u001b[0m\u001b[0mcall_flat\u001b[0m\u001b[0;34m(\u001b[0m\u001b[0;34m*\u001b[0m\u001b[0margs\u001b[0m\u001b[0;34m)\u001b[0m\u001b[0;34m\u001b[0m\u001b[0;34m\u001b[0m\u001b[0m\n\u001b[0m\u001b[1;32m    217\u001b[0m     \u001b[0;32mreturn\u001b[0m \u001b[0mself\u001b[0m\u001b[0;34m.\u001b[0m\u001b[0mfunction_type\u001b[0m\u001b[0;34m.\u001b[0m\u001b[0mpack_output\u001b[0m\u001b[0;34m(\u001b[0m\u001b[0mflat_outputs\u001b[0m\u001b[0;34m)\u001b[0m\u001b[0;34m\u001b[0m\u001b[0;34m\u001b[0m\u001b[0m\n\u001b[1;32m    218\u001b[0m \u001b[0;34m\u001b[0m\u001b[0m\n",
            "\u001b[0;32m/usr/local/lib/python3.10/dist-packages/tensorflow/python/eager/polymorphic_function/atomic_function.py\u001b[0m in \u001b[0;36mcall_flat\u001b[0;34m(self, *args)\u001b[0m\n\u001b[1;32m    249\u001b[0m         \u001b[0;32mwith\u001b[0m \u001b[0mrecord\u001b[0m\u001b[0;34m.\u001b[0m\u001b[0mstop_recording\u001b[0m\u001b[0;34m(\u001b[0m\u001b[0;34m)\u001b[0m\u001b[0;34m:\u001b[0m\u001b[0;34m\u001b[0m\u001b[0;34m\u001b[0m\u001b[0m\n\u001b[1;32m    250\u001b[0m           \u001b[0;32mif\u001b[0m \u001b[0mself\u001b[0m\u001b[0;34m.\u001b[0m\u001b[0m_bound_context\u001b[0m\u001b[0;34m.\u001b[0m\u001b[0mexecuting_eagerly\u001b[0m\u001b[0;34m(\u001b[0m\u001b[0;34m)\u001b[0m\u001b[0;34m:\u001b[0m\u001b[0;34m\u001b[0m\u001b[0;34m\u001b[0m\u001b[0m\n\u001b[0;32m--> 251\u001b[0;31m             outputs = self._bound_context.call_function(\n\u001b[0m\u001b[1;32m    252\u001b[0m                 \u001b[0mself\u001b[0m\u001b[0;34m.\u001b[0m\u001b[0mname\u001b[0m\u001b[0;34m,\u001b[0m\u001b[0;34m\u001b[0m\u001b[0;34m\u001b[0m\u001b[0m\n\u001b[1;32m    253\u001b[0m                 \u001b[0mlist\u001b[0m\u001b[0;34m(\u001b[0m\u001b[0margs\u001b[0m\u001b[0;34m)\u001b[0m\u001b[0;34m,\u001b[0m\u001b[0;34m\u001b[0m\u001b[0;34m\u001b[0m\u001b[0m\n",
            "\u001b[0;32m/usr/local/lib/python3.10/dist-packages/tensorflow/python/eager/context.py\u001b[0m in \u001b[0;36mcall_function\u001b[0;34m(self, name, tensor_inputs, num_outputs)\u001b[0m\n\u001b[1;32m   1550\u001b[0m     \u001b[0mcancellation_context\u001b[0m \u001b[0;34m=\u001b[0m \u001b[0mcancellation\u001b[0m\u001b[0;34m.\u001b[0m\u001b[0mcontext\u001b[0m\u001b[0;34m(\u001b[0m\u001b[0;34m)\u001b[0m\u001b[0;34m\u001b[0m\u001b[0;34m\u001b[0m\u001b[0m\n\u001b[1;32m   1551\u001b[0m     \u001b[0;32mif\u001b[0m \u001b[0mcancellation_context\u001b[0m \u001b[0;32mis\u001b[0m \u001b[0;32mNone\u001b[0m\u001b[0;34m:\u001b[0m\u001b[0;34m\u001b[0m\u001b[0;34m\u001b[0m\u001b[0m\n\u001b[0;32m-> 1552\u001b[0;31m       outputs = execute.execute(\n\u001b[0m\u001b[1;32m   1553\u001b[0m           \u001b[0mname\u001b[0m\u001b[0;34m.\u001b[0m\u001b[0mdecode\u001b[0m\u001b[0;34m(\u001b[0m\u001b[0;34m\"utf-8\"\u001b[0m\u001b[0;34m)\u001b[0m\u001b[0;34m,\u001b[0m\u001b[0;34m\u001b[0m\u001b[0;34m\u001b[0m\u001b[0m\n\u001b[1;32m   1554\u001b[0m           \u001b[0mnum_outputs\u001b[0m\u001b[0;34m=\u001b[0m\u001b[0mnum_outputs\u001b[0m\u001b[0;34m,\u001b[0m\u001b[0;34m\u001b[0m\u001b[0;34m\u001b[0m\u001b[0m\n",
            "\u001b[0;32m/usr/local/lib/python3.10/dist-packages/tensorflow/python/eager/execute.py\u001b[0m in \u001b[0;36mquick_execute\u001b[0;34m(op_name, num_outputs, inputs, attrs, ctx, name)\u001b[0m\n\u001b[1;32m     51\u001b[0m   \u001b[0;32mtry\u001b[0m\u001b[0;34m:\u001b[0m\u001b[0;34m\u001b[0m\u001b[0;34m\u001b[0m\u001b[0m\n\u001b[1;32m     52\u001b[0m     \u001b[0mctx\u001b[0m\u001b[0;34m.\u001b[0m\u001b[0mensure_initialized\u001b[0m\u001b[0;34m(\u001b[0m\u001b[0;34m)\u001b[0m\u001b[0;34m\u001b[0m\u001b[0;34m\u001b[0m\u001b[0m\n\u001b[0;32m---> 53\u001b[0;31m     tensors = pywrap_tfe.TFE_Py_Execute(ctx._handle, device_name, op_name,\n\u001b[0m\u001b[1;32m     54\u001b[0m                                         inputs, attrs, num_outputs)\n\u001b[1;32m     55\u001b[0m   \u001b[0;32mexcept\u001b[0m \u001b[0mcore\u001b[0m\u001b[0;34m.\u001b[0m\u001b[0m_NotOkStatusException\u001b[0m \u001b[0;32mas\u001b[0m \u001b[0me\u001b[0m\u001b[0;34m:\u001b[0m\u001b[0;34m\u001b[0m\u001b[0;34m\u001b[0m\u001b[0m\n",
            "\u001b[0;31mKeyboardInterrupt\u001b[0m: "
          ]
        }
      ]
    },
    {
      "cell_type": "code",
      "source": [
        "# Evaluate the model\n",
        "test_loss, test_acc = model.evaluate(test_images, test_labels, verbose=2)\n",
        "print(f'Test accuracy: {test_acc}')"
      ],
      "metadata": {
        "execution": {
          "iopub.status.busy": "2024-07-11T16:06:30.762051Z",
          "iopub.execute_input": "2024-07-11T16:06:30.762414Z",
          "iopub.status.idle": "2024-07-11T16:06:31.347947Z",
          "shell.execute_reply.started": "2024-07-11T16:06:30.762383Z",
          "shell.execute_reply": "2024-07-11T16:06:31.346774Z"
        },
        "trusted": true,
        "id": "5OHQxYDgDT-8"
      },
      "execution_count": null,
      "outputs": []
    },
    {
      "cell_type": "code",
      "source": [
        "# Generate predictions\n",
        "predictions = model.predict(test_images)\n",
        "predicted_classes = np.argmax(predictions, axis=1)"
      ],
      "metadata": {
        "execution": {
          "iopub.status.busy": "2024-07-11T16:06:31.349763Z",
          "iopub.execute_input": "2024-07-11T16:06:31.350114Z",
          "iopub.status.idle": "2024-07-11T16:06:44.865866Z",
          "shell.execute_reply.started": "2024-07-11T16:06:31.350085Z",
          "shell.execute_reply": "2024-07-11T16:06:44.864844Z"
        },
        "trusted": true,
        "id": "3o3LvFF2DUBs"
      },
      "execution_count": null,
      "outputs": []
    },
    {
      "cell_type": "code",
      "source": [
        "# Print classification report\n",
        "print(classification_report(test_labels, predicted_classes, target_names=label_encoder.classes_))"
      ],
      "metadata": {
        "execution": {
          "iopub.status.busy": "2024-07-11T16:06:44.867306Z",
          "iopub.execute_input": "2024-07-11T16:06:44.867715Z",
          "iopub.status.idle": "2024-07-11T16:06:44.884441Z",
          "shell.execute_reply.started": "2024-07-11T16:06:44.86768Z",
          "shell.execute_reply": "2024-07-11T16:06:44.883471Z"
        },
        "trusted": true,
        "id": "lgH2fEasDUBs"
      },
      "execution_count": null,
      "outputs": []
    },
    {
      "cell_type": "code",
      "source": [
        "# Plot confusion matrix\n",
        "def plot_confusion_matrix(cm, classes, normalize=False, title='Confusion Matrix', cmap=plt.cm.Blues):\n",
        "    plt.figure(figsize=(10, 7))\n",
        "    plt.imshow(cm, interpolation='nearest', cmap=cmap)\n",
        "    plt.title(title)\n",
        "    plt.colorbar()\n",
        "    tick_marks = np.arange(len(classes))\n",
        "    plt.xticks(tick_marks, classes, rotation=45)\n",
        "    plt.yticks(tick_marks, classes)\n",
        "\n",
        "    if normalize:\n",
        "        cm = cm.astype('float') / cm.sum(axis=1)[:, np.newaxis]\n",
        "\n",
        "    thresh = cm.max() / 2.\n",
        "    for i, j in itertools.product(range(cm.shape[0]), range(cm.shape[1])):\n",
        "        plt.text(j, i, format(cm[i, j], '.2f' if normalize else 'd'),\n",
        "                 horizontalalignment=\"center\",\n",
        "                 color=\"white\" if cm[i, j] > thresh else \"black\")\n",
        "\n",
        "    plt.tight_layout()\n",
        "    plt.ylabel('True label')\n",
        "    plt.xlabel('Predicted label')\n",
        "    plt.show()\n",
        "\n",
        "# Compute confusion matrix\n",
        "cm = confusion_matrix(test_labels, predicted_classes)\n",
        "plot_confusion_matrix(cm, classes=label_encoder.classes_)"
      ],
      "metadata": {
        "execution": {
          "iopub.status.busy": "2024-07-11T16:06:44.885914Z",
          "iopub.execute_input": "2024-07-11T16:06:44.886214Z",
          "iopub.status.idle": "2024-07-11T16:06:45.369001Z",
          "shell.execute_reply.started": "2024-07-11T16:06:44.88619Z",
          "shell.execute_reply": "2024-07-11T16:06:45.367633Z"
        },
        "trusted": true,
        "id": "H9kXnsBzDUBt"
      },
      "execution_count": null,
      "outputs": []
    }
  ]
}